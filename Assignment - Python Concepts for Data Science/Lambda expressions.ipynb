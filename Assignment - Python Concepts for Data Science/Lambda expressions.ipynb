{
 "cells": [
  {
   "cell_type": "markdown",
   "id": "4da6d9a7",
   "metadata": {},
   "source": [
    "# Lambda expressions"
   ]
  },
  {
   "cell_type": "markdown",
   "id": "c61ca842",
   "metadata": {},
   "source": [
    "Lambda expressions is one of the most useful tools in Python. lambda expressions allow us to create \"anonymous\" functions. This basically means we can define functions without using `def`.\n",
    "\n",
    "In Python, an anonymous function is a function that is defined without a name. The `def` keyword is used to define a normal function in Python. But the `lambda` keyword is used to define an anonymous function in Python. \n",
    "\n",
    "**Python Lambda Function Syntax:**\n",
    "\n",
    "  `lambda argument(s): expression`\n",
    "  \n",
    "  * Lambda function can have any number of arguments but only one expression, which is evaluated and returned.\n",
    "  * One is free to use lambda functions wherever function objects are required.\n",
    "  * Function objects returned by running lambda expressions work exactly the same as those created and assigned by `def`.\n",
    "\n",
    "The `lambda`'s body is similar to what we would put in a `def` body's return statement. We simply type the result as an expression instead of explicitly returning it.\n",
    "\n",
    "Lets explain a lambda expression by starting from a normal function:"
   ]
  },
  {
   "cell_type": "code",
   "execution_count": 46,
   "id": "dc4397b5",
   "metadata": {},
   "outputs": [],
   "source": [
    "def double_value(x):\n",
    "    result = x * 2\n",
    "    return result"
   ]
  },
  {
   "cell_type": "code",
   "execution_count": 47,
   "id": "e95a5972",
   "metadata": {},
   "outputs": [
    {
     "data": {
      "text/plain": [
       "2"
      ]
     },
     "execution_count": 47,
     "metadata": {},
     "output_type": "execute_result"
    }
   ],
   "source": [
    "same_value(2)"
   ]
  },
  {
   "cell_type": "markdown",
   "id": "2912e8a6",
   "metadata": {},
   "source": [
    "Continuing the illustration:"
   ]
  },
  {
   "cell_type": "code",
   "execution_count": 48,
   "id": "8f3dd49c",
   "metadata": {},
   "outputs": [],
   "source": [
    "def double_value(x):\n",
    "    return x * 2"
   ]
  },
  {
   "cell_type": "code",
   "execution_count": 49,
   "id": "29e03dbe",
   "metadata": {},
   "outputs": [
    {
     "data": {
      "text/plain": [
       "2"
      ]
     },
     "execution_count": 49,
     "metadata": {},
     "output_type": "execute_result"
    }
   ],
   "source": [
    "same_value(2)"
   ]
  },
  {
   "cell_type": "markdown",
   "id": "1669951f",
   "metadata": {},
   "source": [
    "We can write this function in one line (although it would be bad style to do so)"
   ]
  },
  {
   "cell_type": "code",
   "execution_count": 50,
   "id": "3640cc52",
   "metadata": {},
   "outputs": [],
   "source": [
    "def double_value(x): return x * 2"
   ]
  },
  {
   "cell_type": "code",
   "execution_count": 51,
   "id": "94fbb38a",
   "metadata": {},
   "outputs": [
    {
     "data": {
      "text/plain": [
       "4"
      ]
     },
     "execution_count": 51,
     "metadata": {},
     "output_type": "execute_result"
    }
   ],
   "source": [
    "double_value(2)"
   ]
  },
  {
   "cell_type": "markdown",
   "id": "cb130b46",
   "metadata": {},
   "source": [
    "This is the form a function that a lambda expression uses. A lambda expression can then be written as:"
   ]
  },
  {
   "cell_type": "code",
   "execution_count": 52,
   "id": "e1f2c0be",
   "metadata": {},
   "outputs": [
    {
     "data": {
      "text/plain": [
       "<function __main__.<lambda>(x)>"
      ]
     },
     "execution_count": 52,
     "metadata": {},
     "output_type": "execute_result"
    }
   ],
   "source": [
    "lambda x: x * 2"
   ]
  },
  {
   "cell_type": "markdown",
   "id": "0130ad7f",
   "metadata": {},
   "source": [
    "In the example above, the expression is composed of:\n",
    "\n",
    "  * The keyword: __lambda__\n",
    "  * A bound variable: __x__\n",
    "  * A body: __x * 2__"
   ]
  },
  {
   "cell_type": "markdown",
   "id": "d1c480a1",
   "metadata": {},
   "source": [
    "Note how we get a function back. We can assign this function to a variable:"
   ]
  },
  {
   "cell_type": "code",
   "execution_count": 53,
   "id": "4ec04a13",
   "metadata": {},
   "outputs": [],
   "source": [
    "double_value = lambda x: x * 2"
   ]
  },
  {
   "cell_type": "markdown",
   "id": "a189b2fd",
   "metadata": {},
   "source": [
    "and we can call the lambda function using this variable"
   ]
  },
  {
   "cell_type": "code",
   "execution_count": 54,
   "id": "833ed321",
   "metadata": {},
   "outputs": [
    {
     "data": {
      "text/plain": [
       "6"
      ]
     },
     "execution_count": 54,
     "metadata": {},
     "output_type": "execute_result"
    }
   ],
   "source": [
    "double_value(3)"
   ]
  },
  {
   "cell_type": "markdown",
   "id": "e42e7e93",
   "metadata": {},
   "source": [
    "Lets see another examples:"
   ]
  },
  {
   "cell_type": "markdown",
   "id": "fbd543fe",
   "metadata": {},
   "source": [
    "### Example 1: Add two numbers"
   ]
  },
  {
   "cell_type": "markdown",
   "id": "3bfa11fe",
   "metadata": {},
   "source": [
    "In this example we have two arguments: x, y"
   ]
  },
  {
   "cell_type": "code",
   "execution_count": 55,
   "id": "690bc270",
   "metadata": {},
   "outputs": [],
   "source": [
    "add_numbers = lambda x, y: x+y"
   ]
  },
  {
   "cell_type": "code",
   "execution_count": 56,
   "id": "d88a5013",
   "metadata": {},
   "outputs": [
    {
     "data": {
      "text/plain": [
       "8"
      ]
     },
     "execution_count": 56,
     "metadata": {},
     "output_type": "execute_result"
    }
   ],
   "source": [
    "add_numbers(3, 5)"
   ]
  },
  {
   "cell_type": "markdown",
   "id": "f22d2d79",
   "metadata": {},
   "source": [
    "###  Example 2 Lamabda with lists:"
   ]
  },
  {
   "cell_type": "code",
   "execution_count": 57,
   "id": "8b183308",
   "metadata": {},
   "outputs": [],
   "source": [
    "list_num = [1,25,14,7,33,96,47,78,19]"
   ]
  },
  {
   "cell_type": "code",
   "execution_count": 58,
   "id": "e1ba4600",
   "metadata": {},
   "outputs": [
    {
     "data": {
      "text/plain": [
       "[96, 78]"
      ]
     },
     "execution_count": 58,
     "metadata": {},
     "output_type": "execute_result"
    }
   ],
   "source": [
    "# The filter() function in Python takes in a function and a list as arguments.\n",
    "# The function is called with all the items in the list\n",
    "# and a new list is returned which contains items for which the function evaluates to True.\n",
    "list(filter(lambda x: x > 50, list_num))"
   ]
  },
  {
   "cell_type": "markdown",
   "id": "c31e9d42",
   "metadata": {},
   "source": [
    "### Example 3 Lambda with Series:"
   ]
  },
  {
   "cell_type": "code",
   "execution_count": 59,
   "id": "cff65f43",
   "metadata": {},
   "outputs": [],
   "source": [
    "import pandas as pd\n",
    "df = pd.DataFrame({\n",
    "    'Company': ['Microsoft','Google','Youtube','Apple'],\n",
    "    'Year': [1975, 1998, 2005, 1976],\n",
    "})"
   ]
  },
  {
   "cell_type": "code",
   "execution_count": 60,
   "id": "9c30d4c3",
   "metadata": {},
   "outputs": [
    {
     "data": {
      "text/html": [
       "<div>\n",
       "<style scoped>\n",
       "    .dataframe tbody tr th:only-of-type {\n",
       "        vertical-align: middle;\n",
       "    }\n",
       "\n",
       "    .dataframe tbody tr th {\n",
       "        vertical-align: top;\n",
       "    }\n",
       "\n",
       "    .dataframe thead th {\n",
       "        text-align: right;\n",
       "    }\n",
       "</style>\n",
       "<table border=\"1\" class=\"dataframe\">\n",
       "  <thead>\n",
       "    <tr style=\"text-align: right;\">\n",
       "      <th></th>\n",
       "      <th>Company</th>\n",
       "      <th>Year</th>\n",
       "      <th>duration</th>\n",
       "    </tr>\n",
       "  </thead>\n",
       "  <tbody>\n",
       "    <tr>\n",
       "      <th>0</th>\n",
       "      <td>Microsoft</td>\n",
       "      <td>1975</td>\n",
       "      <td>47</td>\n",
       "    </tr>\n",
       "    <tr>\n",
       "      <th>1</th>\n",
       "      <td>Google</td>\n",
       "      <td>1998</td>\n",
       "      <td>24</td>\n",
       "    </tr>\n",
       "    <tr>\n",
       "      <th>2</th>\n",
       "      <td>Youtube</td>\n",
       "      <td>2005</td>\n",
       "      <td>17</td>\n",
       "    </tr>\n",
       "    <tr>\n",
       "      <th>3</th>\n",
       "      <td>Apple</td>\n",
       "      <td>1976</td>\n",
       "      <td>46</td>\n",
       "    </tr>\n",
       "  </tbody>\n",
       "</table>\n",
       "</div>"
      ],
      "text/plain": [
       "     Company  Year  duration\n",
       "0  Microsoft  1975        47\n",
       "1     Google  1998        24\n",
       "2    Youtube  2005        17\n",
       "3      Apple  1976        46"
      ]
     },
     "execution_count": 60,
     "metadata": {},
     "output_type": "execute_result"
    }
   ],
   "source": [
    "df['duration'] = df['Year'].apply(lambda x: 2022-x)\n",
    "\n",
    "df"
   ]
  },
  {
   "cell_type": "markdown",
   "id": "3c10242d",
   "metadata": {},
   "source": [
    "lambda expressions really shine when used in conjunction with `map()`,`filter()` and `reduce()`, which each function of them need a separated article"
   ]
  },
  {
   "cell_type": "code",
   "execution_count": null,
   "id": "b1ece3e1",
   "metadata": {},
   "outputs": [],
   "source": []
  }
 ],
 "metadata": {
  "kernelspec": {
   "display_name": "Python 3 (ipykernel)",
   "language": "python",
   "name": "python3"
  },
  "language_info": {
   "codemirror_mode": {
    "name": "ipython",
    "version": 3
   },
   "file_extension": ".py",
   "mimetype": "text/x-python",
   "name": "python",
   "nbconvert_exporter": "python",
   "pygments_lexer": "ipython3",
   "version": "3.10.0"
  }
 },
 "nbformat": 4,
 "nbformat_minor": 5
}
