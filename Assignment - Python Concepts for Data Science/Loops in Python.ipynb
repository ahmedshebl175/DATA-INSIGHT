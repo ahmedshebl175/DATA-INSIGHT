{
 "cells": [
  {
   "cell_type": "markdown",
   "id": "2511bd50",
   "metadata": {},
   "source": [
    "# Loops in Python\n",
    "\n",
    "Loops enables us to alter the flow of the program so that instead of writing the same code again and again, we can repeat the same code for a finite number of times. For example, if we need to print the first 10 natural numbers then, instead of using the print statement 10 times, we can print inside a loop which runs up to 10 iterations.\n",
    "\n",
    "Python provides two ways for executing the loops. While the two ways provide similar basic functionality, they differ in their syntax and condition checking time.\n",
    "\n",
    "1. for Loop\n",
    "2. while Loop"
   ]
  },
  {
   "cell_type": "markdown",
   "id": "4485ee9e",
   "metadata": {},
   "source": [
    "## **1. for Loop**\n",
    "\n",
    "For loops iterate over a given sequence. It is better to use if the number of iteration is known in advance."
   ]
  },
  {
   "cell_type": "code",
   "execution_count": 38,
   "id": "1a7f0ddb",
   "metadata": {},
   "outputs": [
    {
     "name": "stdout",
     "output_type": "stream",
     "text": [
      "2\n",
      "5\n",
      "8\n",
      "11\n"
     ]
    }
   ],
   "source": [
    "numbers = [2, 5, 8, 11]\n",
    "for number in numbers:\n",
    "    print(number)"
   ]
  },
  {
   "cell_type": "markdown",
   "id": "fffde27a",
   "metadata": {},
   "source": [
    "We can also use it with `range()` function"
   ]
  },
  {
   "cell_type": "code",
   "execution_count": 39,
   "id": "2734c1c1",
   "metadata": {},
   "outputs": [
    {
     "name": "stdout",
     "output_type": "stream",
     "text": [
      "2\n",
      "5\n",
      "8\n",
      "11\n"
     ]
    }
   ],
   "source": [
    "for number in range(2, 12, 3):\n",
    "    print(number)"
   ]
  },
  {
   "cell_type": "markdown",
   "id": "9f8b10ae",
   "metadata": {},
   "source": [
    "## **2. While Loop**\n",
    "\n",
    "The block of statements is executed while the condition specified in the while loop is True. The while loop is used in the scenario where we don't know the number of iterations in advance."
   ]
  },
  {
   "cell_type": "code",
   "execution_count": 40,
   "id": "888026e3",
   "metadata": {},
   "outputs": [
    {
     "name": "stdout",
     "output_type": "stream",
     "text": [
      "2\n",
      "5\n",
      "8\n",
      "11\n"
     ]
    }
   ],
   "source": [
    "number = 2\n",
    "while number < 12:\n",
    "    print(number)\n",
    "    number += 3"
   ]
  },
  {
   "cell_type": "markdown",
   "id": "805d26e7",
   "metadata": {},
   "source": [
    "**`break` and `continue` statements**\n",
    "\n",
    "`break` is used to exit a for loop or a while loop, whereas `continue` is used to skip the current block, and return to the `for` or `while` statement."
   ]
  },
  {
   "cell_type": "code",
   "execution_count": 41,
   "id": "12102a45",
   "metadata": {},
   "outputs": [
    {
     "name": "stdout",
     "output_type": "stream",
     "text": [
      "1\n",
      "2\n",
      "4\n",
      "5\n",
      "7\n",
      "8\n"
     ]
    }
   ],
   "source": [
    "for x in range(10):\n",
    "    if x % 3 == 0:\n",
    "        continue\n",
    "    print(x)"
   ]
  },
  {
   "cell_type": "code",
   "execution_count": 42,
   "id": "5280d22a",
   "metadata": {},
   "outputs": [
    {
     "name": "stdout",
     "output_type": "stream",
     "text": [
      "0\n",
      "1\n",
      "2\n",
      "3\n",
      "4\n",
      "5\n"
     ]
    }
   ],
   "source": [
    "x = 0\n",
    "while x < 10:\n",
    "    print(x)\n",
    "    x += 1\n",
    "    if x > 5:\n",
    "        break"
   ]
  },
  {
   "cell_type": "markdown",
   "id": "ec94155c",
   "metadata": {},
   "source": [
    "**Use `else` clause for loops**\n",
    "\n",
    "we can use else for loops. When the loop condition of \"for\" or \"while\" statement fails then code part in \"else\" is executed. If a break statement is executed inside the for loop then the \"else\" part is skipped. Note that the \"else\" part is executed even if there is a continue statement."
   ]
  },
  {
   "cell_type": "code",
   "execution_count": 43,
   "id": "8aa39012",
   "metadata": {},
   "outputs": [
    {
     "name": "stdout",
     "output_type": "stream",
     "text": [
      "1\n",
      "2\n",
      "3\n",
      "4\n"
     ]
    }
   ],
   "source": [
    "number = 1\n",
    "while(number < 10):\n",
    "    if(number % 5 == 0):\n",
    "        break\n",
    "    print(number)\n",
    "    number += 1\n",
    "else:\n",
    "    print(\"Number value equal: \" + str(number))"
   ]
  },
  {
   "cell_type": "code",
   "execution_count": 45,
   "id": "f716d470",
   "metadata": {},
   "outputs": [
    {
     "name": "stdout",
     "output_type": "stream",
     "text": [
      "1\n",
      "2\n",
      "3\n",
      "4\n",
      "6\n",
      "7\n",
      "8\n",
      "9\n",
      "The value equal: 9\n"
     ]
    }
   ],
   "source": [
    "for number in range(10):\n",
    "    if(number % 5 == 0):\n",
    "        continue\n",
    "    print(number)\n",
    "else:\n",
    "    print(\"The value equal: \" + str(number))"
   ]
  },
  {
   "cell_type": "markdown",
   "id": "4bfa13e0",
   "metadata": {},
   "source": [
    "**Pass statement**\n",
    "\n",
    "Used to execute an empty loop. The pass statement is useful when you don't write the implementation of a loop but you want to implement it in the future."
   ]
  },
  {
   "cell_type": "code",
   "execution_count": 46,
   "id": "a12a9e77",
   "metadata": {},
   "outputs": [],
   "source": [
    "for i in range(10):\n",
    "    pass"
   ]
  },
  {
   "cell_type": "code",
   "execution_count": null,
   "id": "e24e1228",
   "metadata": {},
   "outputs": [],
   "source": []
  },
  {
   "cell_type": "code",
   "execution_count": null,
   "id": "746513e1",
   "metadata": {},
   "outputs": [],
   "source": []
  }
 ],
 "metadata": {
  "kernelspec": {
   "display_name": "Python 3 (ipykernel)",
   "language": "python",
   "name": "python3"
  },
  "language_info": {
   "codemirror_mode": {
    "name": "ipython",
    "version": 3
   },
   "file_extension": ".py",
   "mimetype": "text/x-python",
   "name": "python",
   "nbconvert_exporter": "python",
   "pygments_lexer": "ipython3",
   "version": "3.10.0"
  }
 },
 "nbformat": 4,
 "nbformat_minor": 5
}
