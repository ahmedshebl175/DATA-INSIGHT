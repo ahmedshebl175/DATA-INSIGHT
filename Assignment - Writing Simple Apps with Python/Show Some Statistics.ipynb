{
 "cells": [
  {
   "cell_type": "markdown",
   "id": "ff2e230b",
   "metadata": {},
   "source": [
    "### show some statistics\n",
    "I made two function that takes a list argument:\n",
    "    1 - list_average(lst) --> take a list and return the average.\n",
    "    2 - list_max_min(lst) --> take a list and return the max and min items.\n",
    "Then I take the input from user as numbers separated by spaces.\n",
    "Then to be sure no error arise, in a for loop I created two lists:\n",
    "    one for numeric values, and the other for wrong values which is not numeric.\n",
    "Then I call the functions I created to calcualate statistics.\n",
    "Finally, I print the numeric values and their statistics, and if there are wrong values entered by the user, I print them in separate lines."
   ]
  },
  {
   "cell_type": "code",
   "execution_count": null,
   "id": "8a442a7c",
   "metadata": {},
   "outputs": [],
   "source": [
    "def list_average(lst):\n",
    "    total = 0\n",
    "    for item in lst:\n",
    "        total += item\n",
    "    \n",
    "    count_items = len(lst)\n",
    "    \n",
    "    return total / count_items\n",
    "\n",
    "def list_max_min(lst):\n",
    "    max_item = lst[0]\n",
    "    min_item = lst[0]\n",
    "    for item in lst:\n",
    "        if item > max_item:\n",
    "            max_item = item\n",
    "        elif item < min_item:\n",
    "            min_item = item\n",
    "        \n",
    "        \n",
    "    return max_item, min_item\n",
    "\n",
    "\n",
    "lst_numeric = []\n",
    "lst_not_numeric = []\n",
    "print(\"Enter numbers separated by space between them: \")\n",
    "lst = input().split(' ')\n",
    "\n",
    "for item in lst:\n",
    "    try:\n",
    "        lst_numeric.append(float(item))\n",
    "    except ValueError:\n",
    "        lst_not_numeric.append(item)\n",
    "        \n",
    "list_count = len(lst_numeric)\n",
    "list_average = list_average(lst_numeric)\n",
    "list_max, list_min = list_max_min(lst_numeric)\n",
    "\n",
    "print(\"the numbers: \")\n",
    "print(lst_numeric)\n",
    "print(\"has theses statistics:\")\n",
    "print(\"---------------------\")\n",
    "print(\"count:   \" + str(list_count))\n",
    "print(\"average: \" + str(list_average))\n",
    "print(\"max:     \" + str(list_max))\n",
    "print(\"min:     \" + str(list_min))\n",
    "if len(lst_not_numeric) > 0:\n",
    "    print(\"Note that you entered these wrong type input:\")\n",
    "    print(\"---------------------------------------------\")\n",
    "    print(lst_not_numeric)"
   ]
  }
 ],
 "metadata": {
  "kernelspec": {
   "display_name": "Python 3 (ipykernel)",
   "language": "python",
   "name": "python3"
  },
  "language_info": {
   "codemirror_mode": {
    "name": "ipython",
    "version": 3
   },
   "file_extension": ".py",
   "mimetype": "text/x-python",
   "name": "python",
   "nbconvert_exporter": "python",
   "pygments_lexer": "ipython3",
   "version": "3.9.7"
  }
 },
 "nbformat": 4,
 "nbformat_minor": 5
}
