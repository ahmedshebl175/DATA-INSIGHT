{
 "cells": [
  {
   "cell_type": "markdown",
   "id": "b02df629",
   "metadata": {},
   "source": [
    "### 8. Convert temperature in Fahrenheit to Celsius.\n",
    "\n",
    "I made a function that takes one argument (fah) which is the degree in Fahrenheit\n",
    "then I used the equation of converting Fahrenheit to Celsius which is:\n",
    "        <p>\n",
    "        <b> (32°F − 32) × 5/9 = 0°C </b>\n",
    "        </p>\n",
    "        \n",
    "Then, I use input() funtion to get the temperature degree in Fahrenheit from user and and flaot() function to convert it from string to float, so I can use it in calculation in the function.\n",
    "\n",
    "I put my code in try...except to check if the user input can be converted to float or not, and not crashed by wrong input data,  if it can converted the program continue executing, if not it will print a message to the user.\n",
    "\n",
    "Then I call my function with the user input to get the temperature in Celsius.\n",
    "        \n",
    "Finally I return the result which is the temperature degree in Celsius."
   ]
  },
  {
   "cell_type": "code",
   "execution_count": 4,
   "id": "7b3a3759",
   "metadata": {},
   "outputs": [
    {
     "name": "stdout",
     "output_type": "stream",
     "text": [
      "Enter temperature in Fahrenheit\n",
      "5\n",
      "The temperature 5.0 in Fahrenheit = -15.0 in Celsius.\n"
     ]
    }
   ],
   "source": [
    "# 8. Convert temperature in Fahrenheit to Celsius.\n",
    "\n",
    "def fah_to_cel(fah):\n",
    "    # (32°F − 32) × 5/9 = 0°C\n",
    "    cel = (fah -32) * 5 / 9\n",
    "    \n",
    "    return cel\n",
    "\n",
    "print(\"Enter temperature in Fahrenheit\")\n",
    "try:\n",
    "    fah = float(input())\n",
    "    \n",
    "    cel = fah_to_cel(fah)\n",
    "\n",
    "    print(\"The temperature \" + str(fah) + \" in Fahrenheit = \" + str(cel) + \" in Celsius.\")\n",
    "    \n",
    "except ValueError:\n",
    "    print(\"The temperature degree you entered not a number\")\n"
   ]
  },
  {
   "cell_type": "code",
   "execution_count": null,
   "id": "0721feca",
   "metadata": {},
   "outputs": [],
   "source": []
  }
 ],
 "metadata": {
  "kernelspec": {
   "display_name": "Python 3 (ipykernel)",
   "language": "python",
   "name": "python3"
  },
  "language_info": {
   "codemirror_mode": {
    "name": "ipython",
    "version": 3
   },
   "file_extension": ".py",
   "mimetype": "text/x-python",
   "name": "python",
   "nbconvert_exporter": "python",
   "pygments_lexer": "ipython3",
   "version": "3.9.7"
  }
 },
 "nbformat": 4,
 "nbformat_minor": 5
}
