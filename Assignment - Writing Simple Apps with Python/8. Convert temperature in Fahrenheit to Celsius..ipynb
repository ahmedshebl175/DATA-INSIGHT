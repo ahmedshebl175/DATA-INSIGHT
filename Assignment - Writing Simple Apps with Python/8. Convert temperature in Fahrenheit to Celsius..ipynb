{
 "cells": [
  {
   "cell_type": "markdown",
   "id": "aa687a21",
   "metadata": {},
   "source": [
    "### 8. Convert temperature in Fahrenheit to Celsius.\n",
    "\n",
    "I made a function that takes one argument (fah) which is the degree in Fahrenheit\n",
    "then I used the equation of converting Fahrenheit to Celsius which is:\n",
    "        <p>\n",
    "        <b> (32°F − 32) × 5/9 = 0°C </b>\n",
    "        </p>\n",
    "        \n",
    "Then, I use input() funtion to get the temperature degree in Fahrenheit from user and and flaot() function to convert it from string to float, so I can use it in calculation in the function.\n",
    "\n",
    "I put my code in try...except to check if the user input can be converted to float or not, and not crashed by wrong input data,  if it can converted the program continue executing, if not it will print a message to the user.\n",
    "\n",
    "Then I call my function with the user input to get the temperature in Celsius.\n",
    "        \n",
    "Finally I return the result which is the temperature degree in Celsius."
   ]
  },
  {
   "cell_type": "code",
   "execution_count": 4,
   "id": "e31ae6e4",
   "metadata": {},
   "outputs": [
    {
     "name": "stdout",
     "output_type": "stream",
     "text": [
      "Enter temperature in Fahrenheit\n",
      "5\n",
      "The temperature 5.0 in Fahrenheit = -15.0 in Celsius.\n"
     ]
    }
   ],
   "source": [
    "# 8. Convert temperature in Fahrenheit to Celsius.\n",
    "\n",
    "def fah_to_cel(fah):\n",
    "    # (32°F − 32) × 5/9 = 0°C\n",
    "    cel = (fah -32) * 5 / 9\n",
    "    \n",
    "    return cel\n",
    "\n",
    "print(\"Enter temperature in Fahrenheit\")\n",
    "try:\n",
    "    fah = float(input())\n",
    "    \n",
    "    cel = fah_to_cel(fah)\n",
    "\n",
    "    print(\"The temperature \" + str(fah) + \" in Fahrenheit = \" + str(cel) + \" in Celsius.\")\n",
    "    \n",
    "except ValueError:\n",
    "    print(\"The temperature degree you entered not a number\")\n"
   ]
  },
  {
   "cell_type": "code",
   "execution_count": 38,
   "id": "441fdc80",
   "metadata": {},
   "outputs": [
    {
     "name": "stdout",
     "output_type": "stream",
     "text": [
      "Enter numbers separated by space between them: \n",
      "3\n",
      "the numbers: \n",
      "[3.0]\n",
      "has theses statistics:\n",
      "---------------------\n",
      "count:   1\n",
      "average: 3.0\n",
      "max:     3.0\n",
      "min:     3.0\n"
     ]
    }
   ],
   "source": [
    "\n",
    "def list_average(lst):\n",
    "    total = 0\n",
    "    for item in lst:\n",
    "        total += item\n",
    "    \n",
    "    count_items = len(lst)\n",
    "    \n",
    "    return total / count_items\n",
    "\n",
    "def list_max_min(lst):\n",
    "    max_item = lst[0]\n",
    "    min_item = lst[0]\n",
    "    for item in lst:\n",
    "        if item > max_item:\n",
    "            max_item = item\n",
    "        elif item < min_item:\n",
    "            min_item = item\n",
    "        \n",
    "        \n",
    "    return max_item, min_item\n",
    "\n",
    "\n",
    "lst_numeric = []\n",
    "lst_not_numeric = []\n",
    "print(\"Enter numbers separated by space between them: \")\n",
    "lst = input().split(' ')\n",
    "\n",
    "for item in lst:\n",
    "    try:\n",
    "        lst_numeric.append(float(item))\n",
    "    except ValueError:\n",
    "        lst_not_numeric.append(item)\n",
    "        \n",
    "list_count = len(lst_numeric)\n",
    "list_average = list_average(lst_numeric)\n",
    "list_max, list_min = list_max_min(lst_numeric)\n",
    "\n",
    "print(\"the numbers: \")\n",
    "print(lst_numeric)\n",
    "print(\"has theses statistics:\")\n",
    "print(\"---------------------\")\n",
    "print(\"count:   \" + str(list_count))\n",
    "print(\"average: \" + str(list_average))\n",
    "print(\"max:     \" + str(list_max))\n",
    "print(\"min:     \" + str(list_min))\n",
    "if len(lst_not_numeric) > 0:\n",
    "    print(\"Note that you entered these wrong type input:\")\n",
    "    print(\"---------------------------------------------\")\n",
    "    print(lst_not_numeric)"
   ]
  },
  {
   "cell_type": "code",
   "execution_count": null,
   "id": "db2545f7",
   "metadata": {},
   "outputs": [],
   "source": []
  }
 ],
 "metadata": {
  "kernelspec": {
   "display_name": "Python 3 (ipykernel)",
   "language": "python",
   "name": "python3"
  },
  "language_info": {
   "codemirror_mode": {
    "name": "ipython",
    "version": 3
   },
   "file_extension": ".py",
   "mimetype": "text/x-python",
   "name": "python",
   "nbconvert_exporter": "python",
   "pygments_lexer": "ipython3",
   "version": "3.9.7"
  }
 },
 "nbformat": 4,
 "nbformat_minor": 5
}
