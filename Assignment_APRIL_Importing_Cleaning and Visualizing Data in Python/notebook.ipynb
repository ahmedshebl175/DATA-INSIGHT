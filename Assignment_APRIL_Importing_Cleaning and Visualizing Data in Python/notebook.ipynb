{
 "cells": [
  {
   "cell_type": "markdown",
   "id": "760bf4cf-da64-4423-938e-c73abc8f74ae",
   "metadata": {},
   "source": [
    "Importing data into the Python environment is the starting point to detect the insights that matter. after importing the data you can clean, and visualize it.\n",
    "You'll learn the different types of files that you import and different ways to import data into Python."
   ]
  },
  {
   "cell_type": "markdown",
   "id": "427e35b7-4eda-47aa-8bc9-dce372f95869",
   "metadata": {},
   "source": [
    "First, you'll see the flat file data types."
   ]
  },
  {
   "cell_type": "markdown",
   "id": "ab81f041-beba-49d6-8021-54acb52b2c3d",
   "metadata": {},
   "source": [
    "## CSV Files\n",
    "One of the most common flat file types is the CSV format (comma-separated values)."
   ]
  },
  {
   "cell_type": "markdown",
   "id": "a37dcefe-ed74-423f-8188-d8c5bdd327ce",
   "metadata": {},
   "source": [
    "I'll explain how to import csv file using pandas. The first line of code below imports the pandas package using the alias pd. The second line reads the .csv file and stores it as a pandas dataframe using the pandas pd.read_csv() function. The third line prints the shape of the data, and the fourth line displays the first five rows."
   ]
  },
  {
   "cell_type": "code",
   "execution_count": null,
   "id": "b9d23716-08a7-479a-a794-ed7ce34cc987",
   "metadata": {},
   "outputs": [
    {
     "name": "stdout",
     "output_type": "stream",
     "text": [
      "(336, 6)\n"
     ]
    },
    {
     "data": {
      "application/com.datacamp.data-table.v1+json": {
       "is_truncated": false,
       "table": {
        "data": [
         {
          "Unnamed: 0": 0,
          "addr": " 435 s. la cienega blv . ",
          "city": "los angeles",
          "index": 0,
          "name": "arnie morton's of chicago",
          "phone": 3102461501,
          "type": "american"
         },
         {
          "Unnamed: 0": 1,
          "addr": " 12224 ventura blvd. ",
          "city": "studio city",
          "index": 1,
          "name": "art's delicatessen",
          "phone": 8187621221,
          "type": "american"
         },
         {
          "Unnamed: 0": 2,
          "addr": " 624 s. la brea ave. ",
          "city": "los angeles",
          "index": 2,
          "name": "campanile",
          "phone": 2139381447,
          "type": "american"
         },
         {
          "Unnamed: 0": 3,
          "addr": " 8358 sunset blvd. west ",
          "city": "hollywood",
          "index": 3,
          "name": "fenix",
          "phone": 2138486677,
          "type": "american"
         },
         {
          "Unnamed: 0": 4,
          "addr": " 9560 dayton way ",
          "city": "los angeles",
          "index": 4,
          "name": "grill on the alley",
          "phone": 3102760615,
          "type": "american"
         }
        ],
        "schema": {
         "fields": [
          {
           "name": "index",
           "type": "integer"
          },
          {
           "name": "Unnamed: 0",
           "type": "integer"
          },
          {
           "name": "name",
           "type": "string"
          },
          {
           "name": "addr",
           "type": "string"
          },
          {
           "name": "city",
           "type": "string"
          },
          {
           "name": "phone",
           "type": "integer"
          },
          {
           "name": "type",
           "type": "string"
          }
         ],
         "pandas_version": "0.20.0",
         "primaryKey": [
          "index"
         ]
        }
       },
       "total_rows": 5
      },
      "text/html": [
       "<div>\n",
       "<style scoped>\n",
       "    .dataframe tbody tr th:only-of-type {\n",
       "        vertical-align: middle;\n",
       "    }\n",
       "\n",
       "    .dataframe tbody tr th {\n",
       "        vertical-align: top;\n",
       "    }\n",
       "\n",
       "    .dataframe thead th {\n",
       "        text-align: right;\n",
       "    }\n",
       "</style>\n",
       "<table border=\"1\" class=\"dataframe\">\n",
       "  <thead>\n",
       "    <tr style=\"text-align: right;\">\n",
       "      <th></th>\n",
       "      <th>Unnamed: 0</th>\n",
       "      <th>name</th>\n",
       "      <th>addr</th>\n",
       "      <th>city</th>\n",
       "      <th>phone</th>\n",
       "      <th>type</th>\n",
       "    </tr>\n",
       "  </thead>\n",
       "  <tbody>\n",
       "    <tr>\n",
       "      <th>0</th>\n",
       "      <td>0</td>\n",
       "      <td>arnie morton's of chicago</td>\n",
       "      <td>435 s. la cienega blv .</td>\n",
       "      <td>los angeles</td>\n",
       "      <td>3102461501</td>\n",
       "      <td>american</td>\n",
       "    </tr>\n",
       "    <tr>\n",
       "      <th>1</th>\n",
       "      <td>1</td>\n",
       "      <td>art's delicatessen</td>\n",
       "      <td>12224 ventura blvd.</td>\n",
       "      <td>studio city</td>\n",
       "      <td>8187621221</td>\n",
       "      <td>american</td>\n",
       "    </tr>\n",
       "    <tr>\n",
       "      <th>2</th>\n",
       "      <td>2</td>\n",
       "      <td>campanile</td>\n",
       "      <td>624 s. la brea ave.</td>\n",
       "      <td>los angeles</td>\n",
       "      <td>2139381447</td>\n",
       "      <td>american</td>\n",
       "    </tr>\n",
       "    <tr>\n",
       "      <th>3</th>\n",
       "      <td>3</td>\n",
       "      <td>fenix</td>\n",
       "      <td>8358 sunset blvd. west</td>\n",
       "      <td>hollywood</td>\n",
       "      <td>2138486677</td>\n",
       "      <td>american</td>\n",
       "    </tr>\n",
       "    <tr>\n",
       "      <th>4</th>\n",
       "      <td>4</td>\n",
       "      <td>grill on the alley</td>\n",
       "      <td>9560 dayton way</td>\n",
       "      <td>los angeles</td>\n",
       "      <td>3102760615</td>\n",
       "      <td>american</td>\n",
       "    </tr>\n",
       "  </tbody>\n",
       "</table>\n",
       "</div>"
      ],
      "text/plain": [
       "   Unnamed: 0                       name                       addr  \\\n",
       "0           0  arnie morton's of chicago   435 s. la cienega blv .    \n",
       "1           1         art's delicatessen       12224 ventura blvd.    \n",
       "2           2                  campanile       624 s. la brea ave.    \n",
       "3           3                      fenix    8358 sunset blvd. west    \n",
       "4           4         grill on the alley           9560 dayton way    \n",
       "\n",
       "          city       phone      type  \n",
       "0  los angeles  3102461501  american  \n",
       "1  studio city  8187621221  american  \n",
       "2  los angeles  2139381447  american  \n",
       "3    hollywood  2138486677  american  \n",
       "4  los angeles  3102760615  american  "
      ]
     },
     "execution_count": 16,
     "metadata": {},
     "output_type": "execute_result"
    }
   ],
   "source": [
    "import pandas as pd\n",
    "df = pd.read_csv('restaurants.csv')\n",
    "print(df.shape)\n",
    "df.head(5)"
   ]
  },
  {
   "cell_type": "markdown",
   "id": "2b91fb1f-bd9a-483d-801c-2fcfaf94b981",
   "metadata": {},
   "source": [
    "## Text Files\n",
    "The other common flat file type is text files, which also contain textual data, but not necessarily in a tabular format. "
   ]
  },
  {
   "cell_type": "markdown",
   "id": "d1be1e36-5afb-40f7-8215-eb4bedcdb657",
   "metadata": {},
   "source": [
    "The first line of code below reads the text file using also the pandas pd.read_csv() function, we also here use the sep parameter to specify the separator between columns(fields) in each row(record), then save the result into dataframe. The second line prints the first few lines of the file."
   ]
  },
  {
   "cell_type": "code",
   "execution_count": null,
   "id": "44039632-bd96-45b0-8294-b5ea85e603fa",
   "metadata": {},
   "outputs": [
    {
     "name": "stdout",
     "output_type": "stream",
     "text": [
      "    NAME  AGE  COUNTRY\n",
      "0  Ahmed   44    Egypt\n",
      "1   Ali    45      USA\n",
      "2   Mona   23     Oman\n",
      "3   Dina   35   France\n",
      "4   John   21  England\n",
      "5   Mark   39  Cameron\n"
     ]
    }
   ],
   "source": [
    "df_textfile = pd.read_csv('names.txt', sep='\\t')\n",
    "print(df_textfile)"
   ]
  },
  {
   "cell_type": "markdown",
   "id": "9c7527db-06c5-477d-a079-5d93273de9db",
   "metadata": {},
   "source": [
    "Now, you'll see other file types."
   ]
  },
  {
   "cell_type": "markdown",
   "id": "9f132249-bd9c-4d04-879e-a5e4476edae1",
   "metadata": {},
   "source": [
    "## Excel Data\n",
    "Excel data needs no introduction and is the most widely used data type in the business world. "
   ]
  },
  {
   "cell_type": "markdown",
   "id": "caa59716-9e68-4939-ae74-ce10006a1e51",
   "metadata": {},
   "source": [
    "The first line of code below imports and stores the dataset using the pandas pd.ExcelFile() function. The second line prints the sheet names in the file."
   ]
  },
  {
   "cell_type": "code",
   "execution_count": null,
   "id": "85489e31-7f51-414e-aa1e-b46d633f49db",
   "metadata": {},
   "outputs": [
    {
     "name": "stdout",
     "output_type": "stream",
     "text": [
      "['restaurants_1', 'restaurants_2', 'restaurants_3']\n"
     ]
    }
   ],
   "source": [
    "excel_data = pd.ExcelFile('restaurants.xlsx')\n",
    "print(excel_data.sheet_names)"
   ]
  },
  {
   "cell_type": "markdown",
   "id": "d1a449c7-e71b-4179-90e6-916e6151c64b",
   "metadata": {},
   "source": [
    "The output shows that the Excel file has three sheets. If we didn't specify a sheet name, it would take the first sheet by default.  Using the parse function as we see below to store the data as a pandas data frame."
   ]
  },
  {
   "cell_type": "code",
   "execution_count": null,
   "id": "b1557ef9-d0be-47c8-9a12-6d8ceb981ed3",
   "metadata": {},
   "outputs": [
    {
     "name": "stdout",
     "output_type": "stream",
     "text": [
      "   Unnamed: 0                       name                       addr  \\\n",
      "0           0  arnie morton's of chicago   435 s. la cienega blv .    \n",
      "1           1         art's delicatessen       12224 ventura blvd.    \n",
      "\n",
      "          city       phone      type  \n",
      "0  los angeles  3102461501  american  \n",
      "1  studio city  8187621221  american  \n"
     ]
    }
   ],
   "source": [
    "df1 = excel_data.parse()\n",
    "\n",
    "print(df1.head(2))"
   ]
  },
  {
   "cell_type": "markdown",
   "id": "6777d2c7-cf19-4e59-9309-6e946c2cf67b",
   "metadata": {},
   "source": [
    "If we want to load only a particular sheet from the Excel file for analysis, we can do that using the first line of code below. The second line prints the first five rows of the data. It is also possible to customize the imports, for example, skipping certain rows, importing only selected columns, or changing variable names."
   ]
  },
  {
   "cell_type": "code",
   "execution_count": null,
   "id": "6b593011-e984-457c-9d69-7c56a04c441b",
   "metadata": {},
   "outputs": [
    {
     "data": {
      "application/com.datacamp.data-table.v1+json": {
       "is_truncated": false,
       "table": {
        "data": [
         {
          "Unnamed: 0": 0,
          "addr": " 435 s. la cienega blv . ",
          "city": "los angeles",
          "index": 0,
          "name": "arnie morton's of chicago",
          "phone": 3102461501,
          "type": "american"
         },
         {
          "Unnamed: 0": 1,
          "addr": " 12224 ventura blvd. ",
          "city": "studio city",
          "index": 1,
          "name": "art's delicatessen",
          "phone": 8187621221,
          "type": "american"
         },
         {
          "Unnamed: 0": 2,
          "addr": " 624 s. la brea ave. ",
          "city": "los angeles",
          "index": 2,
          "name": "campanile",
          "phone": 2139381447,
          "type": "american"
         },
         {
          "Unnamed: 0": 3,
          "addr": " 8358 sunset blvd. west ",
          "city": "hollywood",
          "index": 3,
          "name": "fenix",
          "phone": 2138486677,
          "type": "american"
         },
         {
          "Unnamed: 0": 4,
          "addr": " 9560 dayton way ",
          "city": "los angeles",
          "index": 4,
          "name": "grill on the alley",
          "phone": 3102760615,
          "type": "american"
         }
        ],
        "schema": {
         "fields": [
          {
           "name": "index",
           "type": "integer"
          },
          {
           "name": "Unnamed: 0",
           "type": "integer"
          },
          {
           "name": "name",
           "type": "string"
          },
          {
           "name": "addr",
           "type": "string"
          },
          {
           "name": "city",
           "type": "string"
          },
          {
           "name": "phone",
           "type": "integer"
          },
          {
           "name": "type",
           "type": "string"
          }
         ],
         "pandas_version": "0.20.0",
         "primaryKey": [
          "index"
         ]
        }
       },
       "total_rows": 5
      },
      "text/html": [
       "<div>\n",
       "<style scoped>\n",
       "    .dataframe tbody tr th:only-of-type {\n",
       "        vertical-align: middle;\n",
       "    }\n",
       "\n",
       "    .dataframe tbody tr th {\n",
       "        vertical-align: top;\n",
       "    }\n",
       "\n",
       "    .dataframe thead th {\n",
       "        text-align: right;\n",
       "    }\n",
       "</style>\n",
       "<table border=\"1\" class=\"dataframe\">\n",
       "  <thead>\n",
       "    <tr style=\"text-align: right;\">\n",
       "      <th></th>\n",
       "      <th>Unnamed: 0</th>\n",
       "      <th>name</th>\n",
       "      <th>addr</th>\n",
       "      <th>city</th>\n",
       "      <th>phone</th>\n",
       "      <th>type</th>\n",
       "    </tr>\n",
       "  </thead>\n",
       "  <tbody>\n",
       "    <tr>\n",
       "      <th>0</th>\n",
       "      <td>0</td>\n",
       "      <td>arnie morton's of chicago</td>\n",
       "      <td>435 s. la cienega blv .</td>\n",
       "      <td>los angeles</td>\n",
       "      <td>3102461501</td>\n",
       "      <td>american</td>\n",
       "    </tr>\n",
       "    <tr>\n",
       "      <th>1</th>\n",
       "      <td>1</td>\n",
       "      <td>art's delicatessen</td>\n",
       "      <td>12224 ventura blvd.</td>\n",
       "      <td>studio city</td>\n",
       "      <td>8187621221</td>\n",
       "      <td>american</td>\n",
       "    </tr>\n",
       "    <tr>\n",
       "      <th>2</th>\n",
       "      <td>2</td>\n",
       "      <td>campanile</td>\n",
       "      <td>624 s. la brea ave.</td>\n",
       "      <td>los angeles</td>\n",
       "      <td>2139381447</td>\n",
       "      <td>american</td>\n",
       "    </tr>\n",
       "    <tr>\n",
       "      <th>3</th>\n",
       "      <td>3</td>\n",
       "      <td>fenix</td>\n",
       "      <td>8358 sunset blvd. west</td>\n",
       "      <td>hollywood</td>\n",
       "      <td>2138486677</td>\n",
       "      <td>american</td>\n",
       "    </tr>\n",
       "    <tr>\n",
       "      <th>4</th>\n",
       "      <td>4</td>\n",
       "      <td>grill on the alley</td>\n",
       "      <td>9560 dayton way</td>\n",
       "      <td>los angeles</td>\n",
       "      <td>3102760615</td>\n",
       "      <td>american</td>\n",
       "    </tr>\n",
       "  </tbody>\n",
       "</table>\n",
       "</div>"
      ],
      "text/plain": [
       "   Unnamed: 0                       name                       addr  \\\n",
       "0           0  arnie morton's of chicago   435 s. la cienega blv .    \n",
       "1           1         art's delicatessen       12224 ventura blvd.    \n",
       "2           2                  campanile       624 s. la brea ave.    \n",
       "3           3                      fenix    8358 sunset blvd. west    \n",
       "4           4         grill on the alley           9560 dayton way    \n",
       "\n",
       "          city       phone      type  \n",
       "0  los angeles  3102461501  american  \n",
       "1  studio city  8187621221  american  \n",
       "2  los angeles  2139381447  american  \n",
       "3    hollywood  2138486677  american  \n",
       "4  los angeles  3102760615  american  "
      ]
     },
     "execution_count": 6,
     "metadata": {},
     "output_type": "execute_result"
    }
   ],
   "source": [
    "df_excel = excel_data.parse('restaurants_2')\n",
    "df_excel.head()"
   ]
  },
  {
   "cell_type": "markdown",
   "id": "ea4a2295-2e0d-4200-86cc-1dea5105f239",
   "metadata": {},
   "source": [
    "## Pickled files\n",
    "It's native to Python, used with many datatypes for which it isn't obvious how to stroe them, and it's serialized (converted to bytestream)"
   ]
  },
  {
   "cell_type": "markdown",
   "id": "eaab4a63-b3fd-4f44-99c9-561192d3a6b0",
   "metadata": {},
   "source": [
    "you should import pickle package first, then use it to load the file."
   ]
  },
  {
   "cell_type": "code",
   "execution_count": null,
   "id": "46903b76-0a00-405d-9b81-a985584f5b3f",
   "metadata": {},
   "outputs": [
    {
     "name": "stdout",
     "output_type": "stream",
     "text": [
      "       vid     make    model  year  fuel_type                owner\n",
      "0     2767   TOYOTA    CAMRY  2013     HYBRID       SEYED M. BADRI\n",
      "1     1411   TOYOTA     RAV4  2017     HYBRID          DESZY CORP.\n",
      "2     6500   NISSAN   SENTRA  2019   GASOLINE       AGAPH CAB CORP\n",
      "3     2746   TOYOTA    CAMRY  2013     HYBRID  MIDWEST CAB CO, INC\n",
      "4     5922   TOYOTA    CAMRY  2013     HYBRID       SUMETTI CAB CO\n",
      "...    ...      ...      ...   ...        ...                  ...\n",
      "3514  5902   TOYOTA    CAMRY  2013     HYBRID            SAFAR INC\n",
      "3515  1407  HYUNDAI  ELANTRA  2018   GASOLINE    MYKONOS CAB CORP.\n",
      "3516   854   TOYOTA    CAMRY  2012     HYBRID      JOELIZ CORP INC\n",
      "3517  6274   TOYOTA    CAMRY  2012     HYBRID          A K O S INC\n",
      "3518  4675     FORD   ESCAPE  2011  FLEX FUEL           MAJAZ CORP\n",
      "\n",
      "[3519 rows x 6 columns]\n"
     ]
    }
   ],
   "source": [
    "import pickle\n",
    "with open('taxi_vehicles.p', 'rb') as file:\n",
    "    data = pickle.load(file)\n",
    "print(data)"
   ]
  },
  {
   "cell_type": "markdown",
   "id": "6cf79f7e-a606-4662-ba58-a3c6b6b929e4",
   "metadata": {},
   "source": [
    "## SAS and Stata files\n",
    "They are data files used with business analytics and biostatistics and academics social science research."
   ]
  },
  {
   "cell_type": "markdown",
   "id": "2db05762-73f2-4abf-b9b1-e3ec0e007f6b",
   "metadata": {},
   "source": [
    "We import SAS7BDAT from sas7bdat package, then use it to load data into dataframe"
   ]
  },
  {
   "cell_type": "code",
   "execution_count": null,
   "id": "350ea3c9-fda3-421a-b42d-6105cbbf54f8",
   "metadata": {},
   "outputs": [
    {
     "data": {
      "application/com.datacamp.data-table.v1+json": {
       "is_truncated": false,
       "table": {
        "data": [
         {
          "P": 12.8999996185,
          "S": 181.8999938965,
          "YEAR": 1950,
          "index": 0
         },
         {
          "P": 11.8999996185,
          "S": 245,
          "YEAR": 1951,
          "index": 1
         }
        ],
        "schema": {
         "fields": [
          {
           "name": "index",
           "type": "integer"
          },
          {
           "name": "YEAR",
           "type": "number"
          },
          {
           "name": "P",
           "type": "number"
          },
          {
           "name": "S",
           "type": "number"
          }
         ],
         "pandas_version": "0.20.0",
         "primaryKey": [
          "index"
         ]
        }
       },
       "total_rows": 2
      },
      "text/html": [
       "<div>\n",
       "<style scoped>\n",
       "    .dataframe tbody tr th:only-of-type {\n",
       "        vertical-align: middle;\n",
       "    }\n",
       "\n",
       "    .dataframe tbody tr th {\n",
       "        vertical-align: top;\n",
       "    }\n",
       "\n",
       "    .dataframe thead th {\n",
       "        text-align: right;\n",
       "    }\n",
       "</style>\n",
       "<table border=\"1\" class=\"dataframe\">\n",
       "  <thead>\n",
       "    <tr style=\"text-align: right;\">\n",
       "      <th></th>\n",
       "      <th>YEAR</th>\n",
       "      <th>P</th>\n",
       "      <th>S</th>\n",
       "    </tr>\n",
       "  </thead>\n",
       "  <tbody>\n",
       "    <tr>\n",
       "      <th>0</th>\n",
       "      <td>1950.0</td>\n",
       "      <td>12.9</td>\n",
       "      <td>181.899994</td>\n",
       "    </tr>\n",
       "    <tr>\n",
       "      <th>1</th>\n",
       "      <td>1951.0</td>\n",
       "      <td>11.9</td>\n",
       "      <td>245.000000</td>\n",
       "    </tr>\n",
       "  </tbody>\n",
       "</table>\n",
       "</div>"
      ],
      "text/plain": [
       "     YEAR     P           S\n",
       "0  1950.0  12.9  181.899994\n",
       "1  1951.0  11.9  245.000000"
      ]
     },
     "execution_count": 8,
     "metadata": {},
     "output_type": "execute_result"
    }
   ],
   "source": [
    "from sas7bdat import SAS7BDAT\n",
    "with SAS7BDAT('sales.sas7bdat') as file:\n",
    "    df_sas = file.to_data_frame()\n",
    "df_sas.head(2)"
   ]
  },
  {
   "cell_type": "markdown",
   "id": "2ce8975c-db81-461e-825a-47bab9c3e206",
   "metadata": {},
   "source": [
    "For Stata we don't need to import any thinng, just pandas which has a method for Stata (pd.read_stata)"
   ]
  },
  {
   "cell_type": "code",
   "execution_count": null,
   "id": "12a47dae-f8d4-4668-8ab2-b43e00e9d7c7",
   "metadata": {},
   "outputs": [
    {
     "data": {
      "application/com.datacamp.data-table.v1+json": {
       "is_truncated": false,
       "table": {
        "data": [
         {
          "country": "Afghanistan",
          "disa1": 0,
          "disa10": 0,
          "disa11": 0,
          "disa12": 0,
          "disa13": 0.0599999987,
          "disa14": 0,
          "disa15": 0,
          "disa16": 0,
          "disa17": 0,
          "disa18": 0,
          "disa19": 0,
          "disa2": 0,
          "disa20": 0,
          "disa21": 0,
          "disa22": 0,
          "disa23": 0.0199999996,
          "disa24": 0,
          "disa25": 0,
          "disa3": 0.7599999905,
          "disa4": 0.7300000191,
          "disa5": 0,
          "disa6": 0,
          "disa7": 0,
          "disa8": 0,
          "disa9": 0,
          "index": 0,
          "wbcode": "AFG"
         },
         {
          "country": "Angola",
          "disa1": 0.3199999928,
          "disa10": 0.1299999952,
          "disa11": 0,
          "disa12": 0,
          "disa13": 0,
          "disa14": 0,
          "disa15": 0.0599999987,
          "disa16": 0,
          "disa17": 0.400000006,
          "disa18": 0,
          "disa19": 0.6100000143,
          "disa2": 0.0199999996,
          "disa20": 0,
          "disa21": 0,
          "disa22": 0.9900000095,
          "disa23": 0.9800000191,
          "disa24": 0.6100000143,
          "disa25": 0,
          "disa3": 0.5600000024,
          "disa4": 0,
          "disa5": 0,
          "disa6": 0,
          "disa7": 0.5600000024,
          "disa8": 0,
          "disa9": 0,
          "index": 1,
          "wbcode": "AGO"
         }
        ],
        "schema": {
         "fields": [
          {
           "name": "index",
           "type": "integer"
          },
          {
           "name": "wbcode",
           "type": "string"
          },
          {
           "name": "country",
           "type": "string"
          },
          {
           "name": "disa1",
           "type": "number"
          },
          {
           "name": "disa2",
           "type": "number"
          },
          {
           "name": "disa3",
           "type": "number"
          },
          {
           "name": "disa4",
           "type": "number"
          },
          {
           "name": "disa5",
           "type": "number"
          },
          {
           "name": "disa6",
           "type": "number"
          },
          {
           "name": "disa7",
           "type": "number"
          },
          {
           "name": "disa8",
           "type": "number"
          },
          {
           "name": "disa9",
           "type": "number"
          },
          {
           "name": "disa10",
           "type": "number"
          },
          {
           "name": "disa11",
           "type": "number"
          },
          {
           "name": "disa12",
           "type": "number"
          },
          {
           "name": "disa13",
           "type": "number"
          },
          {
           "name": "disa14",
           "type": "number"
          },
          {
           "name": "disa15",
           "type": "number"
          },
          {
           "name": "disa16",
           "type": "number"
          },
          {
           "name": "disa17",
           "type": "number"
          },
          {
           "name": "disa18",
           "type": "number"
          },
          {
           "name": "disa19",
           "type": "number"
          },
          {
           "name": "disa20",
           "type": "number"
          },
          {
           "name": "disa21",
           "type": "number"
          },
          {
           "name": "disa22",
           "type": "number"
          },
          {
           "name": "disa23",
           "type": "number"
          },
          {
           "name": "disa24",
           "type": "number"
          },
          {
           "name": "disa25",
           "type": "number"
          }
         ],
         "pandas_version": "0.20.0",
         "primaryKey": [
          "index"
         ]
        }
       },
       "total_rows": 2
      },
      "text/html": [
       "<div>\n",
       "<style scoped>\n",
       "    .dataframe tbody tr th:only-of-type {\n",
       "        vertical-align: middle;\n",
       "    }\n",
       "\n",
       "    .dataframe tbody tr th {\n",
       "        vertical-align: top;\n",
       "    }\n",
       "\n",
       "    .dataframe thead th {\n",
       "        text-align: right;\n",
       "    }\n",
       "</style>\n",
       "<table border=\"1\" class=\"dataframe\">\n",
       "  <thead>\n",
       "    <tr style=\"text-align: right;\">\n",
       "      <th></th>\n",
       "      <th>wbcode</th>\n",
       "      <th>country</th>\n",
       "      <th>disa1</th>\n",
       "      <th>disa2</th>\n",
       "      <th>disa3</th>\n",
       "      <th>disa4</th>\n",
       "      <th>disa5</th>\n",
       "      <th>disa6</th>\n",
       "      <th>disa7</th>\n",
       "      <th>disa8</th>\n",
       "      <th>...</th>\n",
       "      <th>disa16</th>\n",
       "      <th>disa17</th>\n",
       "      <th>disa18</th>\n",
       "      <th>disa19</th>\n",
       "      <th>disa20</th>\n",
       "      <th>disa21</th>\n",
       "      <th>disa22</th>\n",
       "      <th>disa23</th>\n",
       "      <th>disa24</th>\n",
       "      <th>disa25</th>\n",
       "    </tr>\n",
       "  </thead>\n",
       "  <tbody>\n",
       "    <tr>\n",
       "      <th>0</th>\n",
       "      <td>AFG</td>\n",
       "      <td>Afghanistan</td>\n",
       "      <td>0.00</td>\n",
       "      <td>0.00</td>\n",
       "      <td>0.76</td>\n",
       "      <td>0.73</td>\n",
       "      <td>0.0</td>\n",
       "      <td>0.0</td>\n",
       "      <td>0.00</td>\n",
       "      <td>0.0</td>\n",
       "      <td>...</td>\n",
       "      <td>0.0</td>\n",
       "      <td>0.0</td>\n",
       "      <td>0.0</td>\n",
       "      <td>0.00</td>\n",
       "      <td>0.0</td>\n",
       "      <td>0.0</td>\n",
       "      <td>0.00</td>\n",
       "      <td>0.02</td>\n",
       "      <td>0.00</td>\n",
       "      <td>0.0</td>\n",
       "    </tr>\n",
       "    <tr>\n",
       "      <th>1</th>\n",
       "      <td>AGO</td>\n",
       "      <td>Angola</td>\n",
       "      <td>0.32</td>\n",
       "      <td>0.02</td>\n",
       "      <td>0.56</td>\n",
       "      <td>0.00</td>\n",
       "      <td>0.0</td>\n",
       "      <td>0.0</td>\n",
       "      <td>0.56</td>\n",
       "      <td>0.0</td>\n",
       "      <td>...</td>\n",
       "      <td>0.0</td>\n",
       "      <td>0.4</td>\n",
       "      <td>0.0</td>\n",
       "      <td>0.61</td>\n",
       "      <td>0.0</td>\n",
       "      <td>0.0</td>\n",
       "      <td>0.99</td>\n",
       "      <td>0.98</td>\n",
       "      <td>0.61</td>\n",
       "      <td>0.0</td>\n",
       "    </tr>\n",
       "  </tbody>\n",
       "</table>\n",
       "<p>2 rows × 27 columns</p>\n",
       "</div>"
      ],
      "text/plain": [
       "  wbcode      country  disa1  disa2  disa3  disa4  disa5  disa6  disa7  disa8  \\\n",
       "0    AFG  Afghanistan   0.00   0.00   0.76   0.73    0.0    0.0   0.00    0.0   \n",
       "1    AGO       Angola   0.32   0.02   0.56   0.00    0.0    0.0   0.56    0.0   \n",
       "\n",
       "   ...  disa16  disa17  disa18  disa19  disa20  disa21  disa22  disa23  \\\n",
       "0  ...     0.0     0.0     0.0    0.00     0.0     0.0    0.00    0.02   \n",
       "1  ...     0.0     0.4     0.0    0.61     0.0     0.0    0.99    0.98   \n",
       "\n",
       "   disa24  disa25  \n",
       "0    0.00     0.0  \n",
       "1    0.61     0.0  \n",
       "\n",
       "[2 rows x 27 columns]"
      ]
     },
     "execution_count": 9,
     "metadata": {},
     "output_type": "execute_result"
    }
   ],
   "source": [
    "df_stata = pd.read_stata('disarea.dta')\n",
    "df_stata.head(2)"
   ]
  },
  {
   "cell_type": "markdown",
   "id": "8822c185-44ae-4d93-91ee-153f94218177",
   "metadata": {},
   "source": [
    "## HDF5\n",
    "It's standard for storing large quantities of numerical data (hundreds of gigabytes or terabytes)"
   ]
  },
  {
   "cell_type": "code",
   "execution_count": null,
   "id": "cd08f1b9-32e9-4242-a12b-171088d895e9",
   "metadata": {},
   "outputs": [
    {
     "name": "stdout",
     "output_type": "stream",
     "text": [
      "<class 'h5py._hl.files.File'>\n"
     ]
    }
   ],
   "source": [
    "import h5py\n",
    "data = h5py.File('test.hdf5', 'r')\n",
    "print(type(data))"
   ]
  },
  {
   "cell_type": "markdown",
   "id": "ca115990-2c5c-4e73-9070-58616f92d1f8",
   "metadata": {},
   "source": [
    "## MATLAB\n",
    "It's standard type in engineering and science."
   ]
  },
  {
   "cell_type": "markdown",
   "id": "7b8c3ae8-7a49-4211-b70e-5018acbbfd43",
   "metadata": {},
   "source": [
    "To import a .mat file we import scipy.io, it fives us data in a dictionary datatype"
   ]
  },
  {
   "cell_type": "code",
   "execution_count": null,
   "id": "236d2309-7c7f-4ad9-9fa3-8e571ed3a973",
   "metadata": {},
   "outputs": [
    {
     "name": "stdout",
     "output_type": "stream",
     "text": [
      "<class 'dict'>\n"
     ]
    }
   ],
   "source": [
    "import scipy.io\n",
    "filename = 'ja_data2.mat'\n",
    "mat = scipy.io.loadmat(filename)\n",
    "print(type(mat))"
   ]
  },
  {
   "cell_type": "markdown",
   "id": "eb2765e0-7856-4aff-b981-c96d1e18c95a",
   "metadata": {},
   "source": [
    "## SQL Database\n",
    "Relational databases are a prominent source of data storage for many organizations, and it is extremely important to know how to import data from such databases. Structured Query Language (or SQL) is the most widely used database, and we can import data from tables stored in SQL Server by building a connection."
   ]
  },
  {
   "cell_type": "markdown",
   "id": "e689d356-c9b2-4d3f-bc16-6c05c73b83a0",
   "metadata": {},
   "source": [
    "The first step is to import the required packages and functions. The sqlalchemy package is used in the illustration below. \n",
    "Then you need to query the database using these steps:\n",
    "- create database engine\n",
    "- connect to engine\n",
    "- query the database\n",
    "- save the query result to a dataframe\n",
    "- close the connection"
   ]
  },
  {
   "cell_type": "code",
   "execution_count": null,
   "id": "f5114423-9718-44c3-b70c-86399dc8bbaf",
   "metadata": {},
   "outputs": [
    {
     "name": "stdout",
     "output_type": "stream",
     "text": [
      "['Album', 'Artist', 'Customer', 'Employee', 'Genre', 'Invoice', 'InvoiceLine', 'MediaType', 'Playlist', 'PlaylistTrack', 'Track']\n"
     ]
    }
   ],
   "source": [
    "from sqlalchemy import create_engine\n",
    "engine = create_engine('sqlite:///Chinook.sqlite')\n",
    "table_names = engine.table_names()\n",
    "print(table_names)"
   ]
  },
  {
   "cell_type": "code",
   "execution_count": null,
   "id": "1ee2e7f1-bdd0-45b5-a926-e95bbaf54bd0",
   "metadata": {},
   "outputs": [
    {
     "data": {
      "application/com.datacamp.data-table.v1+json": {
       "is_truncated": false,
       "table": {
        "data": [
         {
          "AlbumId": 1,
          "ArtistId": 1,
          "Title": "For Those About To Rock We Salute You",
          "index": 0
         },
         {
          "AlbumId": 2,
          "ArtistId": 2,
          "Title": "Balls to the Wall",
          "index": 1
         },
         {
          "AlbumId": 3,
          "ArtistId": 2,
          "Title": "Restless and Wild",
          "index": 2
         },
         {
          "AlbumId": 4,
          "ArtistId": 1,
          "Title": "Let There Be Rock",
          "index": 3
         },
         {
          "AlbumId": 5,
          "ArtistId": 3,
          "Title": "Big Ones",
          "index": 4
         }
        ],
        "schema": {
         "fields": [
          {
           "name": "index",
           "type": "integer"
          },
          {
           "name": "AlbumId",
           "type": "integer"
          },
          {
           "name": "Title",
           "type": "string"
          },
          {
           "name": "ArtistId",
           "type": "integer"
          }
         ],
         "pandas_version": "0.20.0",
         "primaryKey": [
          "index"
         ]
        }
       },
       "total_rows": 5
      },
      "text/html": [
       "<div>\n",
       "<style scoped>\n",
       "    .dataframe tbody tr th:only-of-type {\n",
       "        vertical-align: middle;\n",
       "    }\n",
       "\n",
       "    .dataframe tbody tr th {\n",
       "        vertical-align: top;\n",
       "    }\n",
       "\n",
       "    .dataframe thead th {\n",
       "        text-align: right;\n",
       "    }\n",
       "</style>\n",
       "<table border=\"1\" class=\"dataframe\">\n",
       "  <thead>\n",
       "    <tr style=\"text-align: right;\">\n",
       "      <th></th>\n",
       "      <th>AlbumId</th>\n",
       "      <th>Title</th>\n",
       "      <th>ArtistId</th>\n",
       "    </tr>\n",
       "  </thead>\n",
       "  <tbody>\n",
       "    <tr>\n",
       "      <th>0</th>\n",
       "      <td>1</td>\n",
       "      <td>For Those About To Rock We Salute You</td>\n",
       "      <td>1</td>\n",
       "    </tr>\n",
       "    <tr>\n",
       "      <th>1</th>\n",
       "      <td>2</td>\n",
       "      <td>Balls to the Wall</td>\n",
       "      <td>2</td>\n",
       "    </tr>\n",
       "    <tr>\n",
       "      <th>2</th>\n",
       "      <td>3</td>\n",
       "      <td>Restless and Wild</td>\n",
       "      <td>2</td>\n",
       "    </tr>\n",
       "    <tr>\n",
       "      <th>3</th>\n",
       "      <td>4</td>\n",
       "      <td>Let There Be Rock</td>\n",
       "      <td>1</td>\n",
       "    </tr>\n",
       "    <tr>\n",
       "      <th>4</th>\n",
       "      <td>5</td>\n",
       "      <td>Big Ones</td>\n",
       "      <td>3</td>\n",
       "    </tr>\n",
       "  </tbody>\n",
       "</table>\n",
       "</div>"
      ],
      "text/plain": [
       "   AlbumId                                  Title  ArtistId\n",
       "0        1  For Those About To Rock We Salute You         1\n",
       "1        2                      Balls to the Wall         2\n",
       "2        3                      Restless and Wild         2\n",
       "3        4                      Let There Be Rock         1\n",
       "4        5                               Big Ones         3"
      ]
     },
     "execution_count": 13,
     "metadata": {},
     "output_type": "execute_result"
    }
   ],
   "source": [
    "\n",
    "con = engine.connect()\n",
    "rs = con.execute(\"SELECT * FROM Album\")\n",
    "df = pd.DataFrame(rs.fetchall())\n",
    "df.columns = rs.keys()\n",
    "con.close()\n",
    "\n",
    "df.head()"
   ]
  },
  {
   "cell_type": "markdown",
   "id": "146008ef-726f-420e-a41d-024af1588de3",
   "metadata": {},
   "source": [
    "## Importing Data from URL\n",
    "Often data is available on a website and can be downloaded into a local system. We can load the data directly from a website URL (Universal Resource Locator) into the Python environment.\n"
   ]
  },
  {
   "cell_type": "markdown",
   "id": "9769e970-94ff-46a8-a5f4-71aba88b0837",
   "metadata": {},
   "source": [
    "We will use the urllib library for performing this task, as this package provides the interface for fetching data across the web. The first two lines of code below import the required libraries. The third line assigns the URL of the file that we want to import into Python. The fourth line uses the urlretrieve function to save the file in the local environment. The last three lines of code below read the file into a dataframe and print the shape and the first few observations of the dataset."
   ]
  },
  {
   "cell_type": "code",
   "execution_count": null,
   "id": "1f4b4c9c-2b8b-4a14-a1f0-a35a2970fd98",
   "metadata": {},
   "outputs": [
    {
     "name": "stdout",
     "output_type": "stream",
     "text": [
      "(4898, 1)\n"
     ]
    },
    {
     "data": {
      "application/com.datacamp.data-table.v1+json": {
       "is_truncated": false,
       "table": {
        "data": [
         {
          "AlbumId": 1,
          "ArtistId": 1,
          "Title": "For Those About To Rock We Salute You",
          "index": 0
         },
         {
          "AlbumId": 2,
          "ArtistId": 2,
          "Title": "Balls to the Wall",
          "index": 1
         },
         {
          "AlbumId": 3,
          "ArtistId": 2,
          "Title": "Restless and Wild",
          "index": 2
         },
         {
          "AlbumId": 4,
          "ArtistId": 1,
          "Title": "Let There Be Rock",
          "index": 3
         },
         {
          "AlbumId": 5,
          "ArtistId": 3,
          "Title": "Big Ones",
          "index": 4
         }
        ],
        "schema": {
         "fields": [
          {
           "name": "index",
           "type": "integer"
          },
          {
           "name": "AlbumId",
           "type": "integer"
          },
          {
           "name": "Title",
           "type": "string"
          },
          {
           "name": "ArtistId",
           "type": "integer"
          }
         ],
         "pandas_version": "0.20.0",
         "primaryKey": [
          "index"
         ]
        }
       },
       "total_rows": 5
      },
      "text/html": [
       "<div>\n",
       "<style scoped>\n",
       "    .dataframe tbody tr th:only-of-type {\n",
       "        vertical-align: middle;\n",
       "    }\n",
       "\n",
       "    .dataframe tbody tr th {\n",
       "        vertical-align: top;\n",
       "    }\n",
       "\n",
       "    .dataframe thead th {\n",
       "        text-align: right;\n",
       "    }\n",
       "</style>\n",
       "<table border=\"1\" class=\"dataframe\">\n",
       "  <thead>\n",
       "    <tr style=\"text-align: right;\">\n",
       "      <th></th>\n",
       "      <th>AlbumId</th>\n",
       "      <th>Title</th>\n",
       "      <th>ArtistId</th>\n",
       "    </tr>\n",
       "  </thead>\n",
       "  <tbody>\n",
       "    <tr>\n",
       "      <th>0</th>\n",
       "      <td>1</td>\n",
       "      <td>For Those About To Rock We Salute You</td>\n",
       "      <td>1</td>\n",
       "    </tr>\n",
       "    <tr>\n",
       "      <th>1</th>\n",
       "      <td>2</td>\n",
       "      <td>Balls to the Wall</td>\n",
       "      <td>2</td>\n",
       "    </tr>\n",
       "    <tr>\n",
       "      <th>2</th>\n",
       "      <td>3</td>\n",
       "      <td>Restless and Wild</td>\n",
       "      <td>2</td>\n",
       "    </tr>\n",
       "    <tr>\n",
       "      <th>3</th>\n",
       "      <td>4</td>\n",
       "      <td>Let There Be Rock</td>\n",
       "      <td>1</td>\n",
       "    </tr>\n",
       "    <tr>\n",
       "      <th>4</th>\n",
       "      <td>5</td>\n",
       "      <td>Big Ones</td>\n",
       "      <td>3</td>\n",
       "    </tr>\n",
       "  </tbody>\n",
       "</table>\n",
       "</div>"
      ],
      "text/plain": [
       "   AlbumId                                  Title  ArtistId\n",
       "0        1  For Those About To Rock We Salute You         1\n",
       "1        2                      Balls to the Wall         2\n",
       "2        3                      Restless and Wild         2\n",
       "3        4                      Let There Be Rock         1\n",
       "4        5                               Big Ones         3"
      ]
     },
     "execution_count": 14,
     "metadata": {},
     "output_type": "execute_result"
    }
   ],
   "source": [
    "import urllib\n",
    "from urllib.request import urlretrieve\n",
    "\n",
    "url = \"http://archive.ics.uci.edu/ml/machine-learning-databases/wine-quality/winequality-white.csv\"\n",
    "urlretrieve(url, 'ww.csv')\n",
    "\n",
    "df_url = pd.read_csv('ww.csv')\n",
    "print(df_url.shape)\n",
    "df.head(5)"
   ]
  },
  {
   "cell_type": "markdown",
   "id": "17ab2a82-7a19-49ec-a6de-fd040b7a8c4a",
   "metadata": {},
   "source": []
  }
 ],
 "metadata": {
  "colab": {
   "name": "Welcome to DataCamp Workspaces.ipynb",
   "provenance": []
  },
  "kernelspec": {
   "display_name": "",
   "name": ""
  },
  "language_info": {
   "name": ""
  }
 },
 "nbformat": 4,
 "nbformat_minor": 5
}
