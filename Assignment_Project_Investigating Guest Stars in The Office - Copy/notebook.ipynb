{
 "cells": [
  {
   "cell_type": "markdown",
   "metadata": {
    "dc": {
     "key": "4"
    },
    "deletable": false,
    "editable": false,
    "run_control": {
     "frozen": true
    },
    "tags": [
     "context"
    ]
   },
   "source": [
    "## 1. Welcome!\n",
    "<p><img src=\"https://assets.datacamp.com/production/project_1170/img/office_cast.jpeg\" alt=\"Markdown\">.</p>\n",
    "<p><strong>The Office!</strong> What started as a British mockumentary series about office culture in 2001 has since spawned ten other variants across the world, including an Israeli version (2010-13), a Hindi version (2019-), and even a French Canadian variant (2006-2007). Of all these iterations (including the original), the American series has been the longest-running, spanning 201 episodes over nine seasons.</p>\n",
    "<p>In this notebook, we will take a look at a dataset of The Office episodes, and try to understand how the popularity and quality of the series varied over time. To do so, we will use the following dataset: <code>datasets/office_episodes.csv</code>, which was downloaded from Kaggle <a href=\"https://www.kaggle.com/nehaprabhavalkar/the-office-dataset\">here</a>.</p>\n",
    "<p>This dataset contains information on a variety of characteristics of each episode. In detail, these are:\n",
    "<br></p>\n",
    "<div style=\"background-color: #efebe4; color: #05192d; text-align:left; vertical-align: middle; padding: 15px 25px 15px 25px; line-height: 1.6;\">\n",
    "    <div style=\"font-size:20px\"><b>datasets/office_episodes.csv</b></div>\n",
    "<ul>\n",
    "    <li><b>episode_number:</b> Canonical episode number.</li>\n",
    "    <li><b>season:</b> Season in which the episode appeared.</li>\n",
    "    <li><b>episode_title:</b> Title of the episode.</li>\n",
    "    <li><b>description:</b> Description of the episode.</li>\n",
    "    <li><b>ratings:</b> Average IMDB rating.</li>\n",
    "    <li><b>votes:</b> Number of votes.</li>\n",
    "    <li><b>viewership_mil:</b> Number of US viewers in millions.</li>\n",
    "    <li><b>duration:</b> Duration in number of minutes.</li>\n",
    "    <li><b>release_date:</b> Airdate.</li>\n",
    "    <li><b>guest_stars:</b> Guest stars in the episode (if any).</li>\n",
    "    <li><b>director:</b> Director of the episode.</li>\n",
    "    <li><b>writers:</b> Writers of the episode.</li>\n",
    "    <li><b>has_guests:</b> True/False column for whether the episode contained guest stars.</li>\n",
    "    <li><b>scaled_ratings:</b> The ratings scaled from 0 (worst-reviewed) to 1 (best-reviewed).</li>\n",
    "</ul>\n",
    "    </div>"
   ]
  },
  {
   "cell_type": "markdown",
   "metadata": {
    "dc": {
     "key": "4"
    }
   },
   "source": [
    "Data visualization is often a great way to start exploring your data and uncovering insights. In this notebook, you will initiate this process by creating an informative plot of the episode data provided to you. In doing so, you're going to work on several different variables, including the episode number, the viewership, the fan rating, and guest appearances. Here are the requirements needed to pass this project:"
   ]
  },
  {
   "cell_type": "code",
   "execution_count": null,
   "metadata": {
    "dc": {
     "key": "4"
    }
   },
   "outputs": [],
   "source": []
  },
  {
   "cell_type": "code",
   "execution_count": 2,
   "metadata": {
    "dc": {
     "key": "4"
    }
   },
   "outputs": [
    {
     "name": "stdout",
     "output_type": "stream",
     "text": [
      "(188, 14)\n",
      "<class 'pandas.core.frame.DataFrame'>\n",
      "RangeIndex: 188 entries, 0 to 187\n",
      "Data columns (total 14 columns):\n",
      " #   Column          Non-Null Count  Dtype  \n",
      "---  ------          --------------  -----  \n",
      " 0   episode_number  188 non-null    int64  \n",
      " 1   season          188 non-null    int64  \n",
      " 2   episode_title   188 non-null    object \n",
      " 3   description     188 non-null    object \n",
      " 4   ratings         188 non-null    float64\n",
      " 5   votes           188 non-null    int64  \n",
      " 6   viewership_mil  188 non-null    float64\n",
      " 7   duration        188 non-null    int64  \n",
      " 8   release_date    188 non-null    object \n",
      " 9   guest_stars     29 non-null     object \n",
      " 10  director        188 non-null    object \n",
      " 11  writers         188 non-null    object \n",
      " 12  has_guests      188 non-null    bool   \n",
      " 13  scaled_ratings  188 non-null    float64\n",
      "dtypes: bool(1), float64(3), int64(4), object(6)\n",
      "memory usage: 19.4+ KB\n",
      "None\n"
     ]
    },
    {
     "data": {
      "text/html": [
       "<div>\n",
       "<style scoped>\n",
       "    .dataframe tbody tr th:only-of-type {\n",
       "        vertical-align: middle;\n",
       "    }\n",
       "\n",
       "    .dataframe tbody tr th {\n",
       "        vertical-align: top;\n",
       "    }\n",
       "\n",
       "    .dataframe thead th {\n",
       "        text-align: right;\n",
       "    }\n",
       "</style>\n",
       "<table border=\"1\" class=\"dataframe\">\n",
       "  <thead>\n",
       "    <tr style=\"text-align: right;\">\n",
       "      <th></th>\n",
       "      <th>episode_number</th>\n",
       "      <th>season</th>\n",
       "      <th>episode_title</th>\n",
       "      <th>description</th>\n",
       "      <th>ratings</th>\n",
       "      <th>votes</th>\n",
       "      <th>viewership_mil</th>\n",
       "      <th>duration</th>\n",
       "      <th>release_date</th>\n",
       "      <th>guest_stars</th>\n",
       "      <th>director</th>\n",
       "      <th>writers</th>\n",
       "      <th>has_guests</th>\n",
       "      <th>scaled_ratings</th>\n",
       "    </tr>\n",
       "  </thead>\n",
       "  <tbody>\n",
       "    <tr>\n",
       "      <th>0</th>\n",
       "      <td>0</td>\n",
       "      <td>1</td>\n",
       "      <td>Pilot</td>\n",
       "      <td>The premiere episode introduces the boss and s...</td>\n",
       "      <td>7.5</td>\n",
       "      <td>4936</td>\n",
       "      <td>11.2</td>\n",
       "      <td>23</td>\n",
       "      <td>2005-03-24</td>\n",
       "      <td>NaN</td>\n",
       "      <td>Ken Kwapis</td>\n",
       "      <td>Ricky Gervais |Stephen Merchant and Greg Daniels</td>\n",
       "      <td>False</td>\n",
       "      <td>0.28125</td>\n",
       "    </tr>\n",
       "    <tr>\n",
       "      <th>1</th>\n",
       "      <td>1</td>\n",
       "      <td>1</td>\n",
       "      <td>Diversity Day</td>\n",
       "      <td>Michael's off color remark puts a sensitivity ...</td>\n",
       "      <td>8.3</td>\n",
       "      <td>4801</td>\n",
       "      <td>6.0</td>\n",
       "      <td>23</td>\n",
       "      <td>2005-03-29</td>\n",
       "      <td>NaN</td>\n",
       "      <td>Ken Kwapis</td>\n",
       "      <td>B. J. Novak</td>\n",
       "      <td>False</td>\n",
       "      <td>0.53125</td>\n",
       "    </tr>\n",
       "    <tr>\n",
       "      <th>2</th>\n",
       "      <td>2</td>\n",
       "      <td>1</td>\n",
       "      <td>Health Care</td>\n",
       "      <td>Michael leaves Dwight in charge of picking the...</td>\n",
       "      <td>7.8</td>\n",
       "      <td>4024</td>\n",
       "      <td>5.8</td>\n",
       "      <td>22</td>\n",
       "      <td>2005-04-05</td>\n",
       "      <td>NaN</td>\n",
       "      <td>Ken Whittingham</td>\n",
       "      <td>Paul Lieberstein</td>\n",
       "      <td>False</td>\n",
       "      <td>0.37500</td>\n",
       "    </tr>\n",
       "    <tr>\n",
       "      <th>3</th>\n",
       "      <td>3</td>\n",
       "      <td>1</td>\n",
       "      <td>The Alliance</td>\n",
       "      <td>Just for a laugh, Jim agrees to an alliance wi...</td>\n",
       "      <td>8.1</td>\n",
       "      <td>3915</td>\n",
       "      <td>5.4</td>\n",
       "      <td>23</td>\n",
       "      <td>2005-04-12</td>\n",
       "      <td>NaN</td>\n",
       "      <td>Bryan Gordon</td>\n",
       "      <td>Michael Schur</td>\n",
       "      <td>False</td>\n",
       "      <td>0.46875</td>\n",
       "    </tr>\n",
       "    <tr>\n",
       "      <th>4</th>\n",
       "      <td>4</td>\n",
       "      <td>1</td>\n",
       "      <td>Basketball</td>\n",
       "      <td>Michael and his staff challenge the warehouse ...</td>\n",
       "      <td>8.4</td>\n",
       "      <td>4294</td>\n",
       "      <td>5.0</td>\n",
       "      <td>23</td>\n",
       "      <td>2005-04-19</td>\n",
       "      <td>NaN</td>\n",
       "      <td>Greg Daniels</td>\n",
       "      <td>Greg Daniels</td>\n",
       "      <td>False</td>\n",
       "      <td>0.56250</td>\n",
       "    </tr>\n",
       "  </tbody>\n",
       "</table>\n",
       "</div>"
      ],
      "text/plain": [
       "   episode_number  season  episode_title  \\\n",
       "0               0       1          Pilot   \n",
       "1               1       1  Diversity Day   \n",
       "2               2       1    Health Care   \n",
       "3               3       1   The Alliance   \n",
       "4               4       1     Basketball   \n",
       "\n",
       "                                         description  ratings  votes  \\\n",
       "0  The premiere episode introduces the boss and s...      7.5   4936   \n",
       "1  Michael's off color remark puts a sensitivity ...      8.3   4801   \n",
       "2  Michael leaves Dwight in charge of picking the...      7.8   4024   \n",
       "3  Just for a laugh, Jim agrees to an alliance wi...      8.1   3915   \n",
       "4  Michael and his staff challenge the warehouse ...      8.4   4294   \n",
       "\n",
       "   viewership_mil  duration release_date guest_stars         director  \\\n",
       "0            11.2        23   2005-03-24         NaN       Ken Kwapis   \n",
       "1             6.0        23   2005-03-29         NaN       Ken Kwapis   \n",
       "2             5.8        22   2005-04-05         NaN  Ken Whittingham   \n",
       "3             5.4        23   2005-04-12         NaN     Bryan Gordon   \n",
       "4             5.0        23   2005-04-19         NaN     Greg Daniels   \n",
       "\n",
       "                                            writers  has_guests  \\\n",
       "0  Ricky Gervais |Stephen Merchant and Greg Daniels       False   \n",
       "1                                       B. J. Novak       False   \n",
       "2                                  Paul Lieberstein       False   \n",
       "3                                     Michael Schur       False   \n",
       "4                                      Greg Daniels       False   \n",
       "\n",
       "   scaled_ratings  \n",
       "0         0.28125  \n",
       "1         0.53125  \n",
       "2         0.37500  \n",
       "3         0.46875  \n",
       "4         0.56250  "
      ]
     },
     "execution_count": 2,
     "metadata": {},
     "output_type": "execute_result"
    }
   ],
   "source": [
    "# Use this cell to begin your analysis, and add as many as you would like!\n",
    "# Import pandas and mapplotlib.pyplot under their usual aliases\n",
    "import pandas as pd\n",
    "import matplotlib.pyplot as plt\n",
    "\n",
    "plt.rcParams['figure.figsize'] = [11, 7]\n",
    "\n",
    "# Read the data\n",
    "office_df=pd.read_csv('datasets/office_episodes.csv')\n",
    "print(office_df.shape)\n",
    "print(office_df.info())\n",
    "office_df.head()"
   ]
  },
  {
   "cell_type": "markdown",
   "metadata": {
    "dc": {
     "key": "4"
    }
   },
   "source": [
    "A color scheme reflecting the scaled ratings (not the regular ratings) of each episode, such that:\n",
    "- Ratings < 0.25 are colored \"red\"\n",
    "- Ratings >= 0.25 and < 0.50 are colored \"orange\"\n",
    "- Ratings >= 0.50 and < 0.75 are colored \"lightgreen\"\n",
    "- Ratings >= 0.75 are colored \"darkgreen\""
   ]
  },
  {
   "cell_type": "code",
   "execution_count": 3,
   "metadata": {
    "dc": {
     "key": "4"
    }
   },
   "outputs": [
    {
     "data": {
      "text/plain": [
       "['orange',\n",
       " 'lightgreen',\n",
       " 'orange',\n",
       " 'orange',\n",
       " 'lightgreen',\n",
       " 'orange',\n",
       " 'lightgreen',\n",
       " 'orange',\n",
       " 'lightgreen',\n",
       " 'lightgreen']"
      ]
     },
     "execution_count": 3,
     "metadata": {},
     "output_type": "execute_result"
    }
   ],
   "source": [
    "# Color scheme\n",
    "# Define an empty list\n",
    "colors = []\n",
    "\n",
    "# Iterate over rows of netflix_movies_col_subset\n",
    "for lab, row in office_df.iterrows() :\n",
    "    if row['scaled_ratings'] < 0.25:\n",
    "        colors.append(\"red\")\n",
    "    elif row['scaled_ratings'] < 0.50:\n",
    "        colors.append(\"orange\")\n",
    "    elif row['scaled_ratings'] < 0.75:\n",
    "        colors.append(\"lightgreen\")\n",
    "    else:\n",
    "        colors.append(\"darkgreen\")\n",
    "\n",
    "\n",
    "# Inspect the first 10 values in your list        \n",
    "colors[0:10]"
   ]
  },
  {
   "cell_type": "markdown",
   "metadata": {
    "dc": {
     "key": "4"
    }
   },
   "source": [
    "A sizing system, such that episodes with guest appearances have a marker size of 250 and episodes without are sized 25"
   ]
  },
  {
   "cell_type": "code",
   "execution_count": 4,
   "metadata": {
    "dc": {
     "key": "4"
    }
   },
   "outputs": [
    {
     "data": {
      "text/plain": [
       "[25, 25, 25, 25, 25, 250, 25, 25, 250, 250]"
      ]
     },
     "execution_count": 4,
     "metadata": {},
     "output_type": "execute_result"
    }
   ],
   "source": [
    "# Sizing system\n",
    "# Define an empty list\n",
    "sizes = []\n",
    "\n",
    "# Iterate over rows of netflix_movies_col_subset\n",
    "for lab, row in office_df.iterrows() :\n",
    "    if row['has_guests']:\n",
    "        sizes.append(250)\n",
    "    else:\n",
    "        sizes.append(25)\n",
    "\n",
    "\n",
    "# Inspect the first 10 values in your list        \n",
    "sizes[0:10]"
   ]
  },
  {
   "cell_type": "markdown",
   "metadata": {
    "dc": {
     "key": "4"
    }
   },
   "source": [
    "## Bonus Step!\n",
    "  Differentiate guest appearances not just with size, but also with a star!"
   ]
  },
  {
   "cell_type": "code",
   "execution_count": 5,
   "metadata": {
    "dc": {
     "key": "4"
    }
   },
   "outputs": [
    {
     "name": "stdout",
     "output_type": "stream",
     "text": [
      "<class 'pandas.core.frame.DataFrame'>\n",
      "RangeIndex: 188 entries, 0 to 187\n",
      "Data columns (total 16 columns):\n",
      " #   Column          Non-Null Count  Dtype  \n",
      "---  ------          --------------  -----  \n",
      " 0   episode_number  188 non-null    int64  \n",
      " 1   season          188 non-null    int64  \n",
      " 2   episode_title   188 non-null    object \n",
      " 3   description     188 non-null    object \n",
      " 4   ratings         188 non-null    float64\n",
      " 5   votes           188 non-null    int64  \n",
      " 6   viewership_mil  188 non-null    float64\n",
      " 7   duration        188 non-null    int64  \n",
      " 8   release_date    188 non-null    object \n",
      " 9   guest_stars     29 non-null     object \n",
      " 10  director        188 non-null    object \n",
      " 11  writers         188 non-null    object \n",
      " 12  has_guests      188 non-null    bool   \n",
      " 13  scaled_ratings  188 non-null    float64\n",
      " 14  colors          188 non-null    object \n",
      " 15  sizes           188 non-null    int64  \n",
      "dtypes: bool(1), float64(3), int64(5), object(7)\n",
      "memory usage: 22.3+ KB\n"
     ]
    }
   ],
   "source": [
    "office_df['colors'] = colors\n",
    "office_df['sizes'] = sizes\n",
    "\n",
    "office_df.info()"
   ]
  },
  {
   "cell_type": "code",
   "execution_count": 6,
   "metadata": {
    "dc": {
     "key": "4"
    }
   },
   "outputs": [],
   "source": [
    "non_guest_df = office_df[office_df['has_guests'] == False]\n",
    "guest_df = office_df[office_df['has_guests']]"
   ]
  },
  {
   "cell_type": "markdown",
   "metadata": {
    "dc": {
     "key": "4"
    }
   },
   "source": [
    "Create a matplotlib scatter plot of the data that contains the following attributes:\n",
    "\n",
    "- Each episode's episode number plotted along the x-axis\n",
    "- Each episode's viewership (in millions) plotted along the y-axis\n",
    "- A color scheme reflecting the scaled ratings\n",
    "- A sizing system, episodes with guest appearnces have a marker size 250 and episodes without are sized 25\n",
    "- A title, reading \"Popularity, Quality, and Guest Appearances on the Office\"\n",
    "- An x-axis label reading \"Episode Number\"\n",
    "- A y-axis label reading \"Viewership (Millions)\"\n"
   ]
  },
  {
   "cell_type": "code",
   "execution_count": 7,
   "metadata": {
    "dc": {
     "key": "4"
    },
    "tags": [
     "sample_code"
    ]
   },
   "outputs": [
    {
     "data": {
      "image/png": "[encoded data removed]",
      "text/plain": [
       "<Figure size 792x504 with 1 Axes>"
      ]
     },
     "metadata": {
      "needs_background": "light"
     },
     "output_type": "display_data"
    }
   ],
   "source": [
    "## Initalize a new figure\n",
    "fig = plt.figure()\n",
    "plt.style.use('fivethirtyeight')\n",
    "\n",
    "# Create a scatter plot of epsidoe number versus viewership(in millions)\n",
    "plt.scatter(x='episode_number', \n",
    "            y='viewership_mil', \n",
    "            data=non_guest_df,\n",
    "            c='colors', \n",
    "            s='sizes')\n",
    "plt.scatter(x='episode_number', \n",
    "            y='viewership_mil', \n",
    "            data=guest_df,\n",
    "            c='colors', \n",
    "            s='sizes',\n",
    "           marker='*')\n",
    "\n",
    "# Create a title and axis labels\n",
    "plt.title(\"Popularity, Quality, and Guest Appearances on the Office\")\n",
    "plt.xlabel(\"Episode Number\")\n",
    "plt.ylabel(\"Viewership (Millions)\")\n",
    "\n",
    "# Show the plot\n",
    "plt.show()"
   ]
  },
  {
   "cell_type": "markdown",
   "metadata": {
    "dc": {
     "key": "4"
    }
   },
   "source": [
    "Provide the name of one of the guest stars (hint, there were multiple!) who was in the most watched Office episode. Save it as a string in the variable top_star (e.g. top_star = \"Will Ferrell\")."
   ]
  },
  {
   "cell_type": "code",
   "execution_count": 8,
   "metadata": {
    "dc": {
     "key": "4"
    }
   },
   "outputs": [
    {
     "data": {
      "text/plain": [
       "'Cloris Leachman'"
      ]
     },
     "execution_count": 8,
     "metadata": {},
     "output_type": "execute_result"
    }
   ],
   "source": [
    "# The name of one of the guest stars who was in the most watched Office episode\n",
    "df_most_watched=\\\n",
    "    office_df[office_df['viewership_mil'] == office_df['viewership_mil'].max()]\n",
    "guest_stars = df_most_watched['guest_stars'].iloc[0]\n",
    "top_star = guest_stars.split(',')[0]\n",
    "top_star"
   ]
  },
  {
   "cell_type": "markdown",
   "metadata": {
    "collapsed": true,
    "dc": {
     "key": "4"
    }
   },
   "source": [
    "We can make other exploration.\n",
    "\n",
    "we can show the most rating episods"
   ]
  },
  {
   "cell_type": "code",
   "execution_count": 113,
   "metadata": {},
   "outputs": [
    {
     "data": {
      "text/html": [
       "<div>\n",
       "<style scoped>\n",
       "    .dataframe tbody tr th:only-of-type {\n",
       "        vertical-align: middle;\n",
       "    }\n",
       "\n",
       "    .dataframe tbody tr th {\n",
       "        vertical-align: top;\n",
       "    }\n",
       "\n",
       "    .dataframe thead th {\n",
       "        text-align: right;\n",
       "    }\n",
       "</style>\n",
       "<table border=\"1\" class=\"dataframe\">\n",
       "  <thead>\n",
       "    <tr style=\"text-align: right;\">\n",
       "      <th></th>\n",
       "      <th>episode_number</th>\n",
       "      <th>season</th>\n",
       "      <th>episode_title</th>\n",
       "      <th>description</th>\n",
       "      <th>ratings</th>\n",
       "      <th>votes</th>\n",
       "      <th>viewership_mil</th>\n",
       "      <th>duration</th>\n",
       "      <th>release_date</th>\n",
       "      <th>guest_stars</th>\n",
       "      <th>director</th>\n",
       "      <th>writers</th>\n",
       "      <th>has_guests</th>\n",
       "      <th>scaled_ratings</th>\n",
       "      <th>colors</th>\n",
       "      <th>sizes</th>\n",
       "    </tr>\n",
       "  </thead>\n",
       "  <tbody>\n",
       "    <tr>\n",
       "      <th>137</th>\n",
       "      <td>137</td>\n",
       "      <td>7</td>\n",
       "      <td>Goodbye, Michael</td>\n",
       "      <td>As the office gets ready for Michael's final d...</td>\n",
       "      <td>9.8</td>\n",
       "      <td>8059</td>\n",
       "      <td>8.42</td>\n",
       "      <td>50</td>\n",
       "      <td>2011-04-28</td>\n",
       "      <td>NaN</td>\n",
       "      <td>Paul Feig</td>\n",
       "      <td>Greg Daniels</td>\n",
       "      <td>False</td>\n",
       "      <td>1.0</td>\n",
       "      <td>darkgreen</td>\n",
       "      <td>25</td>\n",
       "    </tr>\n",
       "    <tr>\n",
       "      <th>187</th>\n",
       "      <td>187</td>\n",
       "      <td>9</td>\n",
       "      <td>Finale</td>\n",
       "      <td>One year later, Dunder Mifflin employees past ...</td>\n",
       "      <td>9.8</td>\n",
       "      <td>10515</td>\n",
       "      <td>5.69</td>\n",
       "      <td>51</td>\n",
       "      <td>2013-05-16</td>\n",
       "      <td>Joan Cusack, Ed Begley Jr, Rachel Harris, Nanc...</td>\n",
       "      <td>Ken Kwapis</td>\n",
       "      <td>Greg Daniels</td>\n",
       "      <td>True</td>\n",
       "      <td>1.0</td>\n",
       "      <td>darkgreen</td>\n",
       "      <td>250</td>\n",
       "    </tr>\n",
       "  </tbody>\n",
       "</table>\n",
       "</div>"
      ],
      "text/plain": [
       "     episode_number  season     episode_title  \\\n",
       "137             137       7  Goodbye, Michael   \n",
       "187             187       9            Finale   \n",
       "\n",
       "                                           description  ratings  votes  \\\n",
       "137  As the office gets ready for Michael's final d...      9.8   8059   \n",
       "187  One year later, Dunder Mifflin employees past ...      9.8  10515   \n",
       "\n",
       "     viewership_mil  duration release_date  \\\n",
       "137            8.42        50   2011-04-28   \n",
       "187            5.69        51   2013-05-16   \n",
       "\n",
       "                                           guest_stars    director  \\\n",
       "137                                                NaN   Paul Feig   \n",
       "187  Joan Cusack, Ed Begley Jr, Rachel Harris, Nanc...  Ken Kwapis   \n",
       "\n",
       "          writers  has_guests  scaled_ratings     colors  sizes  \n",
       "137  Greg Daniels       False             1.0  darkgreen     25  \n",
       "187  Greg Daniels        True             1.0  darkgreen    250  "
      ]
     },
     "execution_count": 113,
     "metadata": {},
     "output_type": "execute_result"
    }
   ],
   "source": [
    "most_ratings = office_df[office_df['ratings'] == office_df['ratings'].max()]\n",
    "most_ratings"
   ]
  },
  {
   "cell_type": "markdown",
   "metadata": {},
   "source": [
    "We find that the last episode in season 9 one of the most rated episods\n",
    "Ther writer \"Greg Daniels\" is the writer of the most 2 rated opisodes."
   ]
  },
  {
   "cell_type": "markdown",
   "metadata": {},
   "source": [
    "We create a matplotlib scatter plot of the data that contains the following attributes:\n",
    "\n",
    "- Each episode's episode number plotted along the x-axis\n",
    "- Each episode's votes plotted along the y-axis\n",
    "- A color scheme reflecting the scaled ratings\n",
    "- A sizing system, episodes with guest appearnces have a marker size 250 and episodes without are sized 25\n",
    "- A title, reading \"votes, Quality, and Guest Appearances on the Office\"\n",
    "- An x-axis label reading \"Episode Number\"\n",
    "- A y-axis label reading \"Votes\""
   ]
  },
  {
   "cell_type": "code",
   "execution_count": 138,
   "metadata": {},
   "outputs": [
    {
     "data": {
      "image/png": "[encoded data removed]",
      "text/plain": [
       "<Figure size 792x504 with 1 Axes>"
      ]
     },
     "metadata": {},
     "output_type": "display_data"
    }
   ],
   "source": [
    "## Initalize a new figure\n",
    "fig = plt.figure()\n",
    "plt.style.use('ggplot')\n",
    "\n",
    "\n",
    "# Create a scatter plot of epsidoe number versus viewership(in millions)\n",
    "plt.scatter(x='episode_number', \n",
    "            y= 'votes', \n",
    "            data=non_guest_df,\n",
    "            c='colors', \n",
    "            s='sizes')\n",
    "plt.scatter(x='episode_number', \n",
    "            y='votes', \n",
    "            data=guest_df,\n",
    "            c='colors', \n",
    "            s='sizes',\n",
    "           marker='*')\n",
    "\n",
    "# Create a title and axis labels\n",
    "plt.title(\"Votes, Quality, and Guest Appearances on the Office\")\n",
    "plt.xlabel(\"Episode Number\")\n",
    "plt.ylabel(\"Votes\")\n",
    "\n",
    "# Show the plot\n",
    "plt.show()"
   ]
  },
  {
   "cell_type": "markdown",
   "metadata": {},
   "source": [
    "We find that there is a negative correlation between episods series and votes, but still high rated episods have high votes, even if these episodes are not most popular episodes, but they have most votes."
   ]
  },
  {
   "cell_type": "code",
   "execution_count": null,
   "metadata": {},
   "outputs": [],
   "source": []
  }
 ],
 "metadata": {
  "kernelspec": {
   "display_name": "Python 3 (ipykernel)",
   "language": "python",
   "name": "python3"
  },
  "language_info": {
   "codemirror_mode": {
    "name": "ipython",
    "version": 3
   },
   "file_extension": ".py",
   "mimetype": "text/x-python",
   "name": "python",
   "nbconvert_exporter": "python",
   "pygments_lexer": "ipython3",
   "version": "3.9.7"
  }
 },
 "nbformat": 4,
 "nbformat_minor": 2
}
